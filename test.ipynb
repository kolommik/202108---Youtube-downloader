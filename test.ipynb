{
 "cells": [
  {
   "cell_type": "code",
   "execution_count": 24,
   "id": "16fb51ae-aa2e-428f-9301-b469afc85b76",
   "metadata": {
    "execution": {
     "iopub.execute_input": "2022-05-15T14:13:05.029418Z",
     "iopub.status.busy": "2022-05-15T14:13:05.028418Z",
     "iopub.status.idle": "2022-05-15T14:13:05.045418Z",
     "shell.execute_reply": "2022-05-15T14:13:05.044417Z",
     "shell.execute_reply.started": "2022-05-15T14:13:05.029418Z"
    },
    "tags": []
   },
   "outputs": [],
   "source": [
    "import youtube_dl\n",
    "from youtube_dl.utils import DownloadError\n",
    "\n",
    "from typing import Tuple, Optional, Dict, Any"
   ]
  },
  {
   "cell_type": "code",
   "execution_count": 49,
   "id": "6680c760-2e67-4738-86c6-577d849b0dfd",
   "metadata": {
    "execution": {
     "iopub.execute_input": "2022-05-15T14:56:43.481838Z",
     "iopub.status.busy": "2022-05-15T14:56:43.481838Z",
     "iopub.status.idle": "2022-05-15T14:56:43.493836Z",
     "shell.execute_reply": "2022-05-15T14:56:43.492838Z",
     "shell.execute_reply.started": "2022-05-15T14:56:43.481838Z"
    },
    "tags": []
   },
   "outputs": [],
   "source": [
    "# ===================================================\n",
    "url = \"https://www.youtube.com/watch?v=VEE6H_IFL_8\"\n",
    "path = \"D:/__1/Экономика/Теория общественного выбора\"\n",
    "# ===================================================\n"
   ]
  },
  {
   "cell_type": "code",
   "execution_count": 50,
   "id": "f6f711ec-05aa-445e-abec-16d889a991af",
   "metadata": {
    "execution": {
     "iopub.execute_input": "2022-05-15T14:56:45.694343Z",
     "iopub.status.busy": "2022-05-15T14:56:45.694343Z",
     "iopub.status.idle": "2022-05-15T14:56:45.716317Z",
     "shell.execute_reply": "2022-05-15T14:56:45.715344Z",
     "shell.execute_reply.started": "2022-05-15T14:56:45.694343Z"
    },
    "tags": []
   },
   "outputs": [
    {
     "data": {
      "text/plain": [
       "'22[height=720]/22[width=1280]/17[height=720]/17[width=1280]/18[height=720]/18[width=1280]/22[height=480]/17[height=480]/18[height=480]/22[height=360]/17[height=360]/18[height=360]'"
      ]
     },
     "execution_count": 50,
     "metadata": {},
     "output_type": "execute_result"
    }
   ],
   "source": [
    "video_format = \"22[height=720]/22[width=1280]/\"\n",
    "video_format += \"17[height=720]/17[width=1280]/\"\n",
    "video_format += \"18[height=720]/18[width=1280]/\"\n",
    "video_format += \"22[height=480]/\"\n",
    "video_format += \"17[height=480]/\"\n",
    "video_format += \"18[height=480]/\"\n",
    "video_format += \"22[height=360]/\"\n",
    "video_format += \"17[height=360]/\"\n",
    "video_format += \"18[height=360]\"\n",
    "video_format"
   ]
  },
  {
   "cell_type": "code",
   "execution_count": 52,
   "id": "592438ba-78ab-49a3-864d-d8d39c5560d7",
   "metadata": {
    "execution": {
     "iopub.execute_input": "2022-05-15T15:03:41.858239Z",
     "iopub.status.busy": "2022-05-15T15:03:41.858239Z",
     "iopub.status.idle": "2022-05-15T15:03:42.541255Z",
     "shell.execute_reply": "2022-05-15T15:03:42.540254Z",
     "shell.execute_reply.started": "2022-05-15T15:03:41.858239Z"
    },
    "tags": []
   },
   "outputs": [
    {
     "name": "stdout",
     "output_type": "stream",
     "text": [
      "1\n",
      "2\n",
      "[youtube] VEE6H_IFL_8: Downloading webpage\n",
      "[youtube] Downloading just video VEE6H_IFL_8 because of --no-playlist\n",
      "[info] Available formats for VEE6H_IFL_8:\n",
      "format code  extension  resolution note\n",
      "249          webm       audio only tiny   49k , webm_dash container, opus @ 49k (48000Hz), 29.51MiB\n",
      "250          webm       audio only tiny   62k , webm_dash container, opus @ 62k (48000Hz), 37.41MiB\n",
      "251          webm       audio only tiny  122k , webm_dash container, opus @122k (48000Hz), 72.92MiB\n",
      "140          m4a        audio only tiny  129k , m4a_dash container, mp4a.40.2@129k (44100Hz), 77.04MiB\n",
      "160          mp4        256x144    144p   34k , mp4_dash container, avc1.4d400c@  34k, 25fps, video only, 20.68MiB\n",
      "278          webm       256x144    144p   85k , webm_dash container, vp9@  85k, 25fps, video only, 50.70MiB\n",
      "133          mp4        426x240    240p   72k , mp4_dash container, avc1.4d4015@  72k, 25fps, video only, 43.42MiB\n",
      "242          webm       426x240    240p   73k , webm_dash container, vp9@  73k, 25fps, video only, 43.56MiB\n",
      "134          mp4        640x360    360p  114k , mp4_dash container, avc1.4d401e@ 114k, 25fps, video only, 68.00MiB\n",
      "243          webm       640x360    360p  137k , webm_dash container, vp9@ 137k, 25fps, video only, 81.94MiB\n",
      "244          webm       854x480    480p  242k , webm_dash container, vp9@ 242k, 25fps, video only, 144.04MiB\n",
      "135          mp4        854x480    480p  266k , mp4_dash container, avc1.4d401e@ 266k, 25fps, video only, 158.54MiB\n",
      "18           mp4        640x360    360p  363k , avc1.42001E, 25fps, mp4a.40.2 (44100Hz), 216.26MiB (best)\n",
      "3\n",
      "None\n",
      "'NoneType' object is not iterable\n"
     ]
    },
    {
     "ename": "TypeError",
     "evalue": "'NoneType' object is not iterable",
     "output_type": "error",
     "traceback": [
      "\u001b[1;31m---------------------------------------------------------------------------\u001b[0m",
      "\u001b[1;31mTypeError\u001b[0m                                 Traceback (most recent call last)",
      "\u001b[1;32m~\\AppData\\Local\\Temp/ipykernel_9540/102374260.py\u001b[0m in \u001b[0;36m<module>\u001b[1;34m\u001b[0m\n\u001b[0;32m     32\u001b[0m \u001b[1;32mexcept\u001b[0m \u001b[0mException\u001b[0m \u001b[1;32mas\u001b[0m \u001b[0merror\u001b[0m\u001b[1;33m:\u001b[0m\u001b[1;33m\u001b[0m\u001b[1;33m\u001b[0m\u001b[0m\n\u001b[0;32m     33\u001b[0m     \u001b[0mprint\u001b[0m\u001b[1;33m(\u001b[0m\u001b[0merror\u001b[0m\u001b[1;33m)\u001b[0m\u001b[1;33m\u001b[0m\u001b[1;33m\u001b[0m\u001b[0m\n\u001b[1;32m---> 34\u001b[1;33m     \u001b[1;32mraise\u001b[0m \u001b[0merror\u001b[0m\u001b[1;33m\u001b[0m\u001b[1;33m\u001b[0m\u001b[0m\n\u001b[0m",
      "\u001b[1;32m~\\AppData\\Local\\Temp/ipykernel_9540/102374260.py\u001b[0m in \u001b[0;36m<module>\u001b[1;34m\u001b[0m\n\u001b[0;32m     23\u001b[0m         \u001b[0mprint\u001b[0m\u001b[1;33m(\u001b[0m\u001b[1;36m3\u001b[0m\u001b[1;33m)\u001b[0m\u001b[1;33m\u001b[0m\u001b[1;33m\u001b[0m\u001b[0m\n\u001b[0;32m     24\u001b[0m         \u001b[0mprint\u001b[0m\u001b[1;33m(\u001b[0m\u001b[0minfo\u001b[0m\u001b[1;33m)\u001b[0m\u001b[1;33m\u001b[0m\u001b[1;33m\u001b[0m\u001b[0m\n\u001b[1;32m---> 25\u001b[1;33m         \u001b[0mfilename\u001b[0m \u001b[1;33m=\u001b[0m \u001b[0mydl\u001b[0m\u001b[1;33m.\u001b[0m\u001b[0mprepare_filename\u001b[0m\u001b[1;33m(\u001b[0m\u001b[0minfo\u001b[0m\u001b[1;33m)\u001b[0m\u001b[1;33m\u001b[0m\u001b[1;33m\u001b[0m\u001b[0m\n\u001b[0m\u001b[0;32m     26\u001b[0m         \u001b[0mprint\u001b[0m\u001b[1;33m(\u001b[0m\u001b[0mfilename\u001b[0m\u001b[1;33m)\u001b[0m\u001b[1;33m\u001b[0m\u001b[1;33m\u001b[0m\u001b[0m\n\u001b[0;32m     27\u001b[0m \u001b[1;33m\u001b[0m\u001b[0m\n",
      "\u001b[1;32mD:\\Python39\\lib\\site-packages\\youtube_dl\\YoutubeDL.py\u001b[0m in \u001b[0;36mprepare_filename\u001b[1;34m(self, info_dict)\u001b[0m\n\u001b[0;32m    638\u001b[0m         \u001b[1;34m\"\"\"Generate the output filename.\"\"\"\u001b[0m\u001b[1;33m\u001b[0m\u001b[1;33m\u001b[0m\u001b[0m\n\u001b[0;32m    639\u001b[0m         \u001b[1;32mtry\u001b[0m\u001b[1;33m:\u001b[0m\u001b[1;33m\u001b[0m\u001b[1;33m\u001b[0m\u001b[0m\n\u001b[1;32m--> 640\u001b[1;33m             \u001b[0mtemplate_dict\u001b[0m \u001b[1;33m=\u001b[0m \u001b[0mdict\u001b[0m\u001b[1;33m(\u001b[0m\u001b[0minfo_dict\u001b[0m\u001b[1;33m)\u001b[0m\u001b[1;33m\u001b[0m\u001b[1;33m\u001b[0m\u001b[0m\n\u001b[0m\u001b[0;32m    641\u001b[0m \u001b[1;33m\u001b[0m\u001b[0m\n\u001b[0;32m    642\u001b[0m             \u001b[0mtemplate_dict\u001b[0m\u001b[1;33m[\u001b[0m\u001b[1;34m'epoch'\u001b[0m\u001b[1;33m]\u001b[0m \u001b[1;33m=\u001b[0m \u001b[0mint\u001b[0m\u001b[1;33m(\u001b[0m\u001b[0mtime\u001b[0m\u001b[1;33m.\u001b[0m\u001b[0mtime\u001b[0m\u001b[1;33m(\u001b[0m\u001b[1;33m)\u001b[0m\u001b[1;33m)\u001b[0m\u001b[1;33m\u001b[0m\u001b[1;33m\u001b[0m\u001b[0m\n",
      "\u001b[1;31mTypeError\u001b[0m: 'NoneType' object is not iterable"
     ]
    }
   ],
   "source": [
    "def update_status(item: Dict[Any, Any]) -> None:\n",
    "    percent = np.round(item[\"downloaded_bytes\"] / item[\"total_bytes\"], 4) * 100\n",
    "    print(percent)\n",
    "\n",
    "# video_format = \"bestaudio/bestvideo\"\n",
    "# video_format = \"22[height=720]/17[height=720]/18[height=720]\"\n",
    "# video_format = \"22[width=1280]/17[width=1280]/18[width=1280]\"\n",
    "\n",
    "output_filename = f\"{path}/%(title)s.%(ext)s\"\n",
    "ydl_opts = {\n",
    "            \"format\": video_format,\n",
    "            \"outtmpl\": output_filename,\n",
    "            \"noplaylist\": True,\n",
    "            # \"quiet\": True,\n",
    "            \"listformats\": True,\n",
    "        }\n",
    "\n",
    "try:\n",
    "    print(1)\n",
    "    with youtube_dl.YoutubeDL(ydl_opts) as ydl:\n",
    "        print(2)\n",
    "        info = ydl.extract_info(url, download=False)\n",
    "        print(3)\n",
    "        print(info)\n",
    "        filename = ydl.prepare_filename(info)\n",
    "        print(filename)\n",
    "\n",
    "        \n",
    "except DownloadError as error:\n",
    "    print(\"DownloadError:\",error)\n",
    "    \n",
    "except Exception as error:\n",
    "    print(error)\n",
    "    raise error\n"
   ]
  }
 ],
 "metadata": {
  "kernelspec": {
   "display_name": "Python 3 (ipykernel)",
   "language": "python",
   "name": "python3"
  },
  "language_info": {
   "codemirror_mode": {
    "name": "ipython",
    "version": 3
   },
   "file_extension": ".py",
   "mimetype": "text/x-python",
   "name": "python",
   "nbconvert_exporter": "python",
   "pygments_lexer": "ipython3",
   "version": "3.9.6"
  }
 },
 "nbformat": 4,
 "nbformat_minor": 5
}
